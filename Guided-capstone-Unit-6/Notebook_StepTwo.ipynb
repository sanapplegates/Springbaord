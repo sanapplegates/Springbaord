{
 "cells": [
  {
   "cell_type": "markdown",
   "metadata": {},
   "source": [
    "# Step 2 Data Wrangling\n",
    "##### This step consists of multiple components including Data Collection, Data Organization, Data Definitions, and Data Cleaning."
   ]
  },
  {
   "cell_type": "markdown",
   "metadata": {},
   "source": []
  },
  {
   "cell_type": "markdown",
   "metadata": {},
   "source": [
    "<b>The Data Science Method</b>\n",
    "\n",
    "1.Problem Identification\n",
    "\n",
    "2.Data Wrangling\n",
    "    - Data Collection\n",
    "        - Locating the data\n",
    "        - Data loading\n",
    "        - Data joining\n",
    "    -Data Organization\n",
    "        -File structure\n",
    "        -Git & Github\n",
    "        \n",
    "    -Data Definition\n",
    "        -Column names\n",
    "        -Data types (numeric, categorical, timestamp, etc.)\n",
    "        -Description of the columns\n",
    "        -Count or percent per unique values or codes (including NA)\n",
    "        -The range of values or codes\n",
    "\n",
    "\n",
    "    -Data Cleaning\n",
    "        -NA or missing data\n",
    "        -Duplicates\n",
    "    \n",
    "\n",
    "3.   Exploratory Data Analysis\n",
    "\n",
    "4. Pre-processing and Training Data Development\n",
    "\n",
    "5. Modeling\n",
    "5. Documentation"
   ]
  },
  {
   "cell_type": "code",
   "execution_count": 1,
   "metadata": {},
   "outputs": [],
   "source": [
    "import os\n",
    "import pandas as pd\n",
    "import datetime\n",
    "import seaborn as sns\n",
    "import matplotlib.pyplot as plt\n",
    "import numpy as np\n",
    "%matplotlib inline"
   ]
  },
  {
   "cell_type": "code",
   "execution_count": 2,
   "metadata": {},
   "outputs": [
    {
     "data": {
      "text/plain": [
       "'C:\\\\Users\\\\SANJAY\\\\Springboard\\\\Guided-capstone-Unit-6'"
      ]
     },
     "execution_count": 2,
     "metadata": {},
     "output_type": "execute_result"
    }
   ],
   "source": [
    "os.getcwd()"
   ]
  },
  {
   "cell_type": "code",
   "execution_count": 3,
   "metadata": {},
   "outputs": [
    {
     "data": {
      "text/plain": [
       "['.ipynb_checkpoints',\n",
       " 'data',\n",
       " 'figures',\n",
       " 'Guided-Capstone-Data-Wrangling.ipynb',\n",
       " 'models',\n",
       " 'ski_data_dict.png',\n",
       " 'updated_ski_data.csv']"
      ]
     },
     "execution_count": 3,
     "metadata": {},
     "output_type": "execute_result"
    }
   ],
   "source": [
    "os.listdir()\n",
    "#path=             //update the dir location\n",
    "#os.chdir(path)    //change the directory to access files if any.\n"
   ]
  },
  {
   "cell_type": "markdown",
   "metadata": {},
   "source": [
    "<b>Load the data from the csv file</b>"
   ]
  },
  {
   "cell_type": "code",
   "execution_count": 4,
   "metadata": {},
   "outputs": [
    {
     "data": {
      "text/html": [
       "<div>\n",
       "<style scoped>\n",
       "    .dataframe tbody tr th:only-of-type {\n",
       "        vertical-align: middle;\n",
       "    }\n",
       "\n",
       "    .dataframe tbody tr th {\n",
       "        vertical-align: top;\n",
       "    }\n",
       "\n",
       "    .dataframe thead th {\n",
       "        text-align: right;\n",
       "    }\n",
       "</style>\n",
       "<table border=\"1\" class=\"dataframe\">\n",
       "  <thead>\n",
       "    <tr style=\"text-align: right;\">\n",
       "      <th></th>\n",
       "      <th>Name</th>\n",
       "      <th>Region</th>\n",
       "      <th>state</th>\n",
       "      <th>summit_elev</th>\n",
       "      <th>vertical_drop</th>\n",
       "      <th>base_elev</th>\n",
       "      <th>trams</th>\n",
       "      <th>fastEight</th>\n",
       "      <th>fastSixes</th>\n",
       "      <th>fastQuads</th>\n",
       "      <th>...</th>\n",
       "      <th>LongestRun_mi</th>\n",
       "      <th>SkiableTerrain_ac</th>\n",
       "      <th>Snow Making_ac</th>\n",
       "      <th>daysOpenLastYear</th>\n",
       "      <th>yearsOpen</th>\n",
       "      <th>averageSnowfall</th>\n",
       "      <th>AdultWeekday</th>\n",
       "      <th>AdultWeekend</th>\n",
       "      <th>projectedDaysOpen</th>\n",
       "      <th>NightSkiing_ac</th>\n",
       "    </tr>\n",
       "  </thead>\n",
       "  <tbody>\n",
       "    <tr>\n",
       "      <th>0</th>\n",
       "      <td>Alyeska Resort</td>\n",
       "      <td>Alaska</td>\n",
       "      <td>Alaska</td>\n",
       "      <td>3939</td>\n",
       "      <td>2500</td>\n",
       "      <td>250</td>\n",
       "      <td>1</td>\n",
       "      <td>0.0</td>\n",
       "      <td>0</td>\n",
       "      <td>2</td>\n",
       "      <td>...</td>\n",
       "      <td>1.0</td>\n",
       "      <td>1610.0</td>\n",
       "      <td>113.0</td>\n",
       "      <td>150.0</td>\n",
       "      <td>60.0</td>\n",
       "      <td>669.0</td>\n",
       "      <td>65.0</td>\n",
       "      <td>85.0</td>\n",
       "      <td>150.0</td>\n",
       "      <td>550.0</td>\n",
       "    </tr>\n",
       "    <tr>\n",
       "      <th>1</th>\n",
       "      <td>Eaglecrest Ski Area</td>\n",
       "      <td>Alaska</td>\n",
       "      <td>Alaska</td>\n",
       "      <td>2600</td>\n",
       "      <td>1540</td>\n",
       "      <td>1200</td>\n",
       "      <td>0</td>\n",
       "      <td>0.0</td>\n",
       "      <td>0</td>\n",
       "      <td>0</td>\n",
       "      <td>...</td>\n",
       "      <td>2.0</td>\n",
       "      <td>640.0</td>\n",
       "      <td>60.0</td>\n",
       "      <td>45.0</td>\n",
       "      <td>44.0</td>\n",
       "      <td>350.0</td>\n",
       "      <td>47.0</td>\n",
       "      <td>53.0</td>\n",
       "      <td>90.0</td>\n",
       "      <td>NaN</td>\n",
       "    </tr>\n",
       "    <tr>\n",
       "      <th>2</th>\n",
       "      <td>Hilltop Ski Area</td>\n",
       "      <td>Alaska</td>\n",
       "      <td>Alaska</td>\n",
       "      <td>2090</td>\n",
       "      <td>294</td>\n",
       "      <td>1796</td>\n",
       "      <td>0</td>\n",
       "      <td>0.0</td>\n",
       "      <td>0</td>\n",
       "      <td>0</td>\n",
       "      <td>...</td>\n",
       "      <td>1.0</td>\n",
       "      <td>30.0</td>\n",
       "      <td>30.0</td>\n",
       "      <td>150.0</td>\n",
       "      <td>36.0</td>\n",
       "      <td>69.0</td>\n",
       "      <td>30.0</td>\n",
       "      <td>34.0</td>\n",
       "      <td>152.0</td>\n",
       "      <td>30.0</td>\n",
       "    </tr>\n",
       "    <tr>\n",
       "      <th>3</th>\n",
       "      <td>Arizona Snowbowl</td>\n",
       "      <td>Arizona</td>\n",
       "      <td>Arizona</td>\n",
       "      <td>11500</td>\n",
       "      <td>2300</td>\n",
       "      <td>9200</td>\n",
       "      <td>0</td>\n",
       "      <td>0.0</td>\n",
       "      <td>1</td>\n",
       "      <td>0</td>\n",
       "      <td>...</td>\n",
       "      <td>2.0</td>\n",
       "      <td>777.0</td>\n",
       "      <td>104.0</td>\n",
       "      <td>122.0</td>\n",
       "      <td>81.0</td>\n",
       "      <td>260.0</td>\n",
       "      <td>89.0</td>\n",
       "      <td>89.0</td>\n",
       "      <td>122.0</td>\n",
       "      <td>NaN</td>\n",
       "    </tr>\n",
       "    <tr>\n",
       "      <th>4</th>\n",
       "      <td>Sunrise Park Resort</td>\n",
       "      <td>Arizona</td>\n",
       "      <td>Arizona</td>\n",
       "      <td>11100</td>\n",
       "      <td>1800</td>\n",
       "      <td>9200</td>\n",
       "      <td>0</td>\n",
       "      <td>NaN</td>\n",
       "      <td>0</td>\n",
       "      <td>1</td>\n",
       "      <td>...</td>\n",
       "      <td>1.2</td>\n",
       "      <td>800.0</td>\n",
       "      <td>80.0</td>\n",
       "      <td>115.0</td>\n",
       "      <td>49.0</td>\n",
       "      <td>250.0</td>\n",
       "      <td>74.0</td>\n",
       "      <td>78.0</td>\n",
       "      <td>104.0</td>\n",
       "      <td>80.0</td>\n",
       "    </tr>\n",
       "  </tbody>\n",
       "</table>\n",
       "<p>5 rows × 27 columns</p>\n",
       "</div>"
      ],
      "text/plain": [
       "                  Name   Region    state  summit_elev  vertical_drop  \\\n",
       "0       Alyeska Resort   Alaska   Alaska         3939           2500   \n",
       "1  Eaglecrest Ski Area   Alaska   Alaska         2600           1540   \n",
       "2     Hilltop Ski Area   Alaska   Alaska         2090            294   \n",
       "3     Arizona Snowbowl  Arizona  Arizona        11500           2300   \n",
       "4  Sunrise Park Resort  Arizona  Arizona        11100           1800   \n",
       "\n",
       "   base_elev  trams  fastEight  fastSixes  fastQuads  ...  LongestRun_mi  \\\n",
       "0        250      1        0.0          0          2  ...            1.0   \n",
       "1       1200      0        0.0          0          0  ...            2.0   \n",
       "2       1796      0        0.0          0          0  ...            1.0   \n",
       "3       9200      0        0.0          1          0  ...            2.0   \n",
       "4       9200      0        NaN          0          1  ...            1.2   \n",
       "\n",
       "   SkiableTerrain_ac  Snow Making_ac  daysOpenLastYear  yearsOpen  \\\n",
       "0             1610.0           113.0             150.0       60.0   \n",
       "1              640.0            60.0              45.0       44.0   \n",
       "2               30.0            30.0             150.0       36.0   \n",
       "3              777.0           104.0             122.0       81.0   \n",
       "4              800.0            80.0             115.0       49.0   \n",
       "\n",
       "   averageSnowfall  AdultWeekday  AdultWeekend  projectedDaysOpen  \\\n",
       "0            669.0          65.0          85.0              150.0   \n",
       "1            350.0          47.0          53.0               90.0   \n",
       "2             69.0          30.0          34.0              152.0   \n",
       "3            260.0          89.0          89.0              122.0   \n",
       "4            250.0          74.0          78.0              104.0   \n",
       "\n",
       "   NightSkiing_ac  \n",
       "0           550.0  \n",
       "1             NaN  \n",
       "2            30.0  \n",
       "3             NaN  \n",
       "4            80.0  \n",
       "\n",
       "[5 rows x 27 columns]"
      ]
     },
     "execution_count": 4,
     "metadata": {},
     "output_type": "execute_result"
    }
   ],
   "source": [
    "ski_data_df=pd.read_csv('updated_ski_data.csv')\n",
    "ski_data_df.head(5)"
   ]
  },
  {
   "cell_type": "markdown",
   "metadata": {},
   "source": [
    "# Data Organization\n"
   ]
  },
  {
   "cell_type": "code",
   "execution_count": 5,
   "metadata": {},
   "outputs": [],
   "source": [
    "path =os.getcwd()"
   ]
  },
  {
   "cell_type": "code",
   "execution_count": 6,
   "metadata": {},
   "outputs": [
    {
     "name": "stdout",
     "output_type": "stream",
     "text": [
      "The current working directory is C:\\Users\\SANJAY\\Springboard\\Guided-capstone-Unit-6\n"
     ]
    }
   ],
   "source": [
    "print (\"The current working directory is %s\" % path)"
   ]
  },
  {
   "cell_type": "markdown",
   "metadata": {},
   "source": [
    "# Create subfolders in your project directory"
   ]
  },
  {
   "cell_type": "code",
   "execution_count": 7,
   "metadata": {},
   "outputs": [
    {
     "data": {
      "text/plain": [
       "['.ipynb_checkpoints',\n",
       " 'data',\n",
       " 'figures',\n",
       " 'Guided-Capstone-Data-Wrangling.ipynb',\n",
       " 'models',\n",
       " 'ski_data_dict.png',\n",
       " 'updated_ski_data.csv']"
      ]
     },
     "execution_count": 7,
     "metadata": {},
     "output_type": "execute_result"
    }
   ],
   "source": [
    "os.listdir() # List of folders created and confirm it- data , figures,models"
   ]
  },
  {
   "cell_type": "markdown",
   "metadata": {},
   "source": [
    "# Data Definition\n",
    "Review column names, data types and null values"
   ]
  },
  {
   "cell_type": "code",
   "execution_count": 8,
   "metadata": {},
   "outputs": [
    {
     "name": "stdout",
     "output_type": "stream",
     "text": [
      "Index(['Name', 'Region', 'state', 'summit_elev', 'vertical_drop', 'base_elev',\n",
      "       'trams', 'fastEight', 'fastSixes', 'fastQuads', 'quad', 'triple',\n",
      "       'double', 'surface', 'total_chairs', 'Runs', 'TerrainParks',\n",
      "       'LongestRun_mi', 'SkiableTerrain_ac', 'Snow Making_ac',\n",
      "       'daysOpenLastYear', 'yearsOpen', 'averageSnowfall', 'AdultWeekday',\n",
      "       'AdultWeekend', 'projectedDaysOpen', 'NightSkiing_ac'],\n",
      "      dtype='object')\n"
     ]
    }
   ],
   "source": [
    "print(ski_data_df.columns)"
   ]
  },
  {
   "cell_type": "code",
   "execution_count": 9,
   "metadata": {},
   "outputs": [
    {
     "name": "stdout",
     "output_type": "stream",
     "text": [
      "Name                  object\n",
      "Region                object\n",
      "state                 object\n",
      "summit_elev            int64\n",
      "vertical_drop          int64\n",
      "base_elev              int64\n",
      "trams                  int64\n",
      "fastEight            float64\n",
      "fastSixes              int64\n",
      "fastQuads              int64\n",
      "quad                   int64\n",
      "triple                 int64\n",
      "double                 int64\n",
      "surface                int64\n",
      "total_chairs           int64\n",
      "Runs                 float64\n",
      "TerrainParks         float64\n",
      "LongestRun_mi        float64\n",
      "SkiableTerrain_ac    float64\n",
      "Snow Making_ac       float64\n",
      "daysOpenLastYear     float64\n",
      "yearsOpen            float64\n",
      "averageSnowfall      float64\n",
      "AdultWeekday         float64\n",
      "AdultWeekend         float64\n",
      "projectedDaysOpen    float64\n",
      "NightSkiing_ac       float64\n",
      "dtype: object\n"
     ]
    }
   ],
   "source": [
    "print(ski_data_df.dtypes) # Data Types of the columns"
   ]
  },
  {
   "cell_type": "code",
   "execution_count": 10,
   "metadata": {},
   "outputs": [
    {
     "name": "stdout",
     "output_type": "stream",
     "text": [
      "<class 'pandas.core.frame.DataFrame'>\n",
      "RangeIndex: 330 entries, 0 to 329\n",
      "Data columns (total 27 columns):\n",
      " #   Column             Non-Null Count  Dtype  \n",
      "---  ------             --------------  -----  \n",
      " 0   Name               330 non-null    object \n",
      " 1   Region             330 non-null    object \n",
      " 2   state              330 non-null    object \n",
      " 3   summit_elev        330 non-null    int64  \n",
      " 4   vertical_drop      330 non-null    int64  \n",
      " 5   base_elev          330 non-null    int64  \n",
      " 6   trams              330 non-null    int64  \n",
      " 7   fastEight          164 non-null    float64\n",
      " 8   fastSixes          330 non-null    int64  \n",
      " 9   fastQuads          330 non-null    int64  \n",
      " 10  quad               330 non-null    int64  \n",
      " 11  triple             330 non-null    int64  \n",
      " 12  double             330 non-null    int64  \n",
      " 13  surface            330 non-null    int64  \n",
      " 14  total_chairs       330 non-null    int64  \n",
      " 15  Runs               326 non-null    float64\n",
      " 16  TerrainParks       279 non-null    float64\n",
      " 17  LongestRun_mi      325 non-null    float64\n",
      " 18  SkiableTerrain_ac  327 non-null    float64\n",
      " 19  Snow Making_ac     284 non-null    float64\n",
      " 20  daysOpenLastYear   279 non-null    float64\n",
      " 21  yearsOpen          329 non-null    float64\n",
      " 22  averageSnowfall    316 non-null    float64\n",
      " 23  AdultWeekday       276 non-null    float64\n",
      " 24  AdultWeekend       279 non-null    float64\n",
      " 25  projectedDaysOpen  283 non-null    float64\n",
      " 26  NightSkiing_ac     187 non-null    float64\n",
      "dtypes: float64(13), int64(11), object(3)\n",
      "memory usage: 69.7+ KB\n",
      "None\n"
     ]
    }
   ],
   "source": [
    "print(ski_data_df.info())"
   ]
  },
  {
   "cell_type": "markdown",
   "metadata": {},
   "source": [
    "<img src='ski_data_dict.png'/>"
   ]
  },
  {
   "cell_type": "code",
   "execution_count": 11,
   "metadata": {},
   "outputs": [
    {
     "name": "stdout",
     "output_type": "stream",
     "text": [
      "Name                 329\n",
      "Region                38\n",
      "state                 35\n",
      "summit_elev          266\n",
      "vertical_drop        193\n",
      "base_elev            244\n",
      "trams                  5\n",
      "fastEight              2\n",
      "fastSixes              7\n",
      "fastQuads             14\n",
      "quad                   7\n",
      "triple                 9\n",
      "double                10\n",
      "surface               12\n",
      "total_chairs          31\n",
      "Runs                 110\n",
      "TerrainParks          11\n",
      "LongestRun_mi         42\n",
      "SkiableTerrain_ac    193\n",
      "Snow Making_ac       143\n",
      "daysOpenLastYear     111\n",
      "yearsOpen             72\n",
      "averageSnowfall      107\n",
      "AdultWeekday          83\n",
      "AdultWeekend          81\n",
      "projectedDaysOpen     90\n",
      "NightSkiing_ac        78\n",
      "dtype: int64\n"
     ]
    }
   ],
   "source": [
    "print(ski_data_df.nunique()) #count of unique values for every column, regardless of data type"
   ]
  },
  {
   "cell_type": "code",
   "execution_count": 12,
   "metadata": {},
   "outputs": [
    {
     "name": "stdout",
     "output_type": "stream",
     "text": [
      "193    7.41\n",
      "7      7.41\n",
      "31     3.70\n",
      "110    3.70\n",
      "2      3.70\n",
      "35     3.70\n",
      "11     3.70\n",
      "5      3.70\n",
      "38     3.70\n",
      "72     3.70\n",
      "329    3.70\n",
      "266    3.70\n",
      "12     3.70\n",
      "42     3.70\n",
      "14     3.70\n",
      "143    3.70\n",
      "81     3.70\n",
      "9      3.70\n",
      "83     3.70\n",
      "244    3.70\n",
      "111    3.70\n",
      "90     3.70\n",
      "10     3.70\n",
      "78     3.70\n",
      "107    3.70\n",
      "dtype: float64\n"
     ]
    }
   ],
   "source": [
    "#Print the percent of unique values per column. \n",
    "#Use the df.nunique and the size of the dataframe to calculate the percentages.  Clarify????\n",
    "print(ski_data_df.nunique().value_counts(normalize=True).mul(100).round(2))"
   ]
  },
  {
   "cell_type": "code",
   "execution_count": 13,
   "metadata": {},
   "outputs": [
    {
     "name": "stdout",
     "output_type": "stream",
     "text": [
      "New York          33\n",
      "Michigan          29\n",
      "Colorado          22\n",
      "California        21\n",
      "Pennsylvania      19\n",
      "Wisconsin         16\n",
      "New Hampshire     16\n",
      "Vermont           15\n",
      "Minnesota         14\n",
      "Utah              13\n",
      "Idaho             12\n",
      "Montana           12\n",
      "Massachusetts     11\n",
      "Washington        10\n",
      "Oregon            10\n",
      "Maine              9\n",
      "New Mexico         9\n",
      "Wyoming            8\n",
      "North Carolina     6\n",
      "Connecticut        5\n",
      "Ohio               5\n",
      "Illinois           4\n",
      "Nevada             4\n",
      "West Virginia      4\n",
      "Virginia           4\n",
      "Alaska             3\n",
      "Iowa               3\n",
      "Missouri           2\n",
      "New Jersey         2\n",
      "Arizona            2\n",
      "South Dakota       2\n",
      "Indiana            2\n",
      "Tennessee          1\n",
      "Maryland           1\n",
      "Rhode Island       1\n",
      "Name: state, dtype: int64\n"
     ]
    }
   ],
   "source": [
    "print(ski_data_df.state.value_counts())\n",
    "\n"
   ]
  },
  {
   "cell_type": "code",
   "execution_count": 14,
   "metadata": {},
   "outputs": [
    {
     "name": "stdout",
     "output_type": "stream",
     "text": [
      "New York               33\n",
      "Michigan               29\n",
      "Sierra Nevada          22\n",
      "Colorado               22\n",
      "Pennsylvania           19\n",
      "New Hampshire          16\n",
      "Wisconsin              16\n",
      "Vermont                15\n",
      "Minnesota              14\n",
      "Idaho                  12\n",
      "Montana                12\n",
      "Massachusetts          11\n",
      "Washington             10\n",
      "Maine                   9\n",
      "New Mexico              9\n",
      "Wyoming                 8\n",
      "Utah                    7\n",
      "North Carolina          6\n",
      "Salt Lake City          6\n",
      "Oregon                  6\n",
      "Ohio                    5\n",
      "Connecticut             5\n",
      "Illinois                4\n",
      "Mt. Hood                4\n",
      "Virginia                4\n",
      "West Virginia           4\n",
      "Iowa                    3\n",
      "Alaska                  3\n",
      "Missouri                2\n",
      "Arizona                 2\n",
      "Indiana                 2\n",
      "New Jersey              2\n",
      "Nevada                  2\n",
      "South Dakota            2\n",
      "Maryland                1\n",
      "Tennessee               1\n",
      "Rhode Island            1\n",
      "Northern California     1\n",
      "Name: Region, dtype: int64\n"
     ]
    }
   ],
   "source": [
    "print(ski_data_df.Region.value_counts())"
   ]
  },
  {
   "cell_type": "code",
   "execution_count": 15,
   "metadata": {},
   "outputs": [
    {
     "name": "stdout",
     "output_type": "stream",
     "text": [
      "                                min                            max\n",
      "Name               49 Degrees North  Yosemite Ski & Snowboard Area\n",
      "Region                       Alaska                        Wyoming\n",
      "state                        Alaska                        Wyoming\n",
      "summit_elev                     315                          13487\n",
      "vertical_drop                    60                           4425\n",
      "base_elev                        70                          10800\n",
      "trams                             0                              4\n",
      "fastEight                         0                              1\n",
      "fastSixes                         0                              6\n",
      "fastQuads                         0                             15\n",
      "quad                              0                              8\n",
      "triple                            0                              8\n",
      "double                            0                             14\n",
      "surface                           0                             15\n",
      "total_chairs                      0                             41\n",
      "Runs                              3                            341\n",
      "TerrainParks                      1                             14\n",
      "LongestRun_mi                     0                              6\n",
      "SkiableTerrain_ac                 8                          26819\n",
      "Snow Making_ac                    2                           3379\n",
      "daysOpenLastYear                  3                            305\n",
      "yearsOpen                         6                           2019\n",
      "averageSnowfall                  18                            669\n",
      "AdultWeekday                     15                            179\n",
      "AdultWeekend                     17                            179\n",
      "projectedDaysOpen                30                            305\n",
      "NightSkiing_ac                    2                            650\n"
     ]
    }
   ],
   "source": [
    "print((ski_data_df.agg([min,max])).T) #Range of values per column"
   ]
  },
  {
   "cell_type": "code",
   "execution_count": 16,
   "metadata": {},
   "outputs": [
    {
     "name": "stdout",
     "output_type": "stream",
     "text": [
      "                   count         mean          std    min      25%     50%  \\\n",
      "summit_elev        330.0  4591.818182  3735.535934  315.0  1403.75  3127.5   \n",
      "vertical_drop      330.0  1215.427273   947.864557   60.0   461.25   964.5   \n",
      "base_elev          330.0  3374.000000  3117.121621   70.0   869.00  1561.5   \n",
      "trams              330.0     0.172727     0.559946    0.0     0.00     0.0   \n",
      "fastEight          164.0     0.006098     0.078087    0.0     0.00     0.0   \n",
      "fastSixes          330.0     0.184848     0.651685    0.0     0.00     0.0   \n",
      "fastQuads          330.0     1.018182     2.198294    0.0     0.00     0.0   \n",
      "quad               330.0     0.933333     1.312245    0.0     0.00     0.0   \n",
      "triple             330.0     1.500000     1.619130    0.0     0.00     1.0   \n",
      "double             330.0     1.833333     1.815028    0.0     1.00     1.0   \n",
      "surface            330.0     2.621212     2.059636    0.0     1.00     2.0   \n",
      "total_chairs       330.0     8.266667     5.798683    0.0     5.00     7.0   \n",
      "Runs               326.0    48.214724    46.364077    3.0    19.00    33.0   \n",
      "TerrainParks       279.0     2.820789     2.008113    1.0     1.00     2.0   \n",
      "LongestRun_mi      325.0     1.433231     1.156171    0.0     0.50     1.0   \n",
      "SkiableTerrain_ac  327.0   739.801223  1816.167441    8.0    85.00   200.0   \n",
      "Snow Making_ac     284.0   174.873239   261.336125    2.0    50.00   100.0   \n",
      "daysOpenLastYear   279.0   115.103943    35.063251    3.0    97.00   114.0   \n",
      "yearsOpen          329.0    63.656535   109.429928    6.0    50.00    58.0   \n",
      "averageSnowfall    316.0   185.316456   136.356842   18.0    69.00   150.0   \n",
      "AdultWeekday       276.0    57.916957    26.140126   15.0    40.00    50.0   \n",
      "AdultWeekend       279.0    64.166810    24.554584   17.0    47.00    60.0   \n",
      "projectedDaysOpen  283.0   120.053004    31.045963   30.0   100.00   120.0   \n",
      "NightSkiing_ac     187.0   100.395722   105.169620    2.0    40.00    72.0   \n",
      "\n",
      "                       75%      max  \n",
      "summit_elev        7806.00  13487.0  \n",
      "vertical_drop      1800.00   4425.0  \n",
      "base_elev          6325.25  10800.0  \n",
      "trams                 0.00      4.0  \n",
      "fastEight             0.00      1.0  \n",
      "fastSixes             0.00      6.0  \n",
      "fastQuads             1.00     15.0  \n",
      "quad                  1.00      8.0  \n",
      "triple                2.00      8.0  \n",
      "double                3.00     14.0  \n",
      "surface               3.00     15.0  \n",
      "total_chairs         10.00     41.0  \n",
      "Runs                 60.00    341.0  \n",
      "TerrainParks          4.00     14.0  \n",
      "LongestRun_mi         2.00      6.0  \n",
      "SkiableTerrain_ac   690.00  26819.0  \n",
      "Snow Making_ac      200.50   3379.0  \n",
      "daysOpenLastYear    135.00    305.0  \n",
      "yearsOpen            69.00   2019.0  \n",
      "averageSnowfall     300.00    669.0  \n",
      "AdultWeekday         71.00    179.0  \n",
      "AdultWeekend         77.50    179.0  \n",
      "projectedDaysOpen   139.50    305.0  \n",
      "NightSkiing_ac      114.00    650.0  \n"
     ]
    }
   ],
   "source": [
    "print(ski_data_df.describe().T)"
   ]
  },
  {
   "cell_type": "markdown",
   "metadata": {},
   "source": [
    "<b>Data Cleaning</b>\n",
    "<b>Handle the missing and NA values</b>"
   ]
  },
  {
   "cell_type": "code",
   "execution_count": 17,
   "metadata": {},
   "outputs": [
    {
     "data": {
      "text/html": [
       "<div>\n",
       "<style scoped>\n",
       "    .dataframe tbody tr th:only-of-type {\n",
       "        vertical-align: middle;\n",
       "    }\n",
       "\n",
       "    .dataframe tbody tr th {\n",
       "        vertical-align: top;\n",
       "    }\n",
       "\n",
       "    .dataframe thead th {\n",
       "        text-align: right;\n",
       "    }\n",
       "</style>\n",
       "<table border=\"1\" class=\"dataframe\">\n",
       "  <thead>\n",
       "    <tr style=\"text-align: right;\">\n",
       "      <th></th>\n",
       "      <th>percent</th>\n",
       "    </tr>\n",
       "  </thead>\n",
       "  <tbody>\n",
       "    <tr>\n",
       "      <th>fastEight</th>\n",
       "      <td>0.503030</td>\n",
       "    </tr>\n",
       "    <tr>\n",
       "      <th>NightSkiing_ac</th>\n",
       "      <td>0.433333</td>\n",
       "    </tr>\n",
       "    <tr>\n",
       "      <th>AdultWeekday</th>\n",
       "      <td>0.163636</td>\n",
       "    </tr>\n",
       "    <tr>\n",
       "      <th>AdultWeekend</th>\n",
       "      <td>0.154545</td>\n",
       "    </tr>\n",
       "    <tr>\n",
       "      <th>daysOpenLastYear</th>\n",
       "      <td>0.154545</td>\n",
       "    </tr>\n",
       "    <tr>\n",
       "      <th>TerrainParks</th>\n",
       "      <td>0.154545</td>\n",
       "    </tr>\n",
       "    <tr>\n",
       "      <th>projectedDaysOpen</th>\n",
       "      <td>0.142424</td>\n",
       "    </tr>\n",
       "    <tr>\n",
       "      <th>Snow Making_ac</th>\n",
       "      <td>0.139394</td>\n",
       "    </tr>\n",
       "    <tr>\n",
       "      <th>averageSnowfall</th>\n",
       "      <td>0.042424</td>\n",
       "    </tr>\n",
       "    <tr>\n",
       "      <th>LongestRun_mi</th>\n",
       "      <td>0.015152</td>\n",
       "    </tr>\n",
       "    <tr>\n",
       "      <th>Runs</th>\n",
       "      <td>0.012121</td>\n",
       "    </tr>\n",
       "    <tr>\n",
       "      <th>SkiableTerrain_ac</th>\n",
       "      <td>0.009091</td>\n",
       "    </tr>\n",
       "    <tr>\n",
       "      <th>yearsOpen</th>\n",
       "      <td>0.003030</td>\n",
       "    </tr>\n",
       "  </tbody>\n",
       "</table>\n",
       "</div>"
      ],
      "text/plain": [
       "                    percent\n",
       "fastEight          0.503030\n",
       "NightSkiing_ac     0.433333\n",
       "AdultWeekday       0.163636\n",
       "AdultWeekend       0.154545\n",
       "daysOpenLastYear   0.154545\n",
       "TerrainParks       0.154545\n",
       "projectedDaysOpen  0.142424\n",
       "Snow Making_ac     0.139394\n",
       "averageSnowfall    0.042424\n",
       "LongestRun_mi      0.015152\n",
       "Runs               0.012121\n",
       "SkiableTerrain_ac  0.009091\n",
       "yearsOpen          0.003030"
      ]
     },
     "execution_count": 17,
     "metadata": {},
     "output_type": "execute_result"
    }
   ],
   "source": [
    "nas=pd.DataFrame(ski_data_df.isnull().sum().sort_values(ascending=False)/len(ski_data_df),columns = ['percent'])\n",
    "pos = nas['percent'] > 0\n",
    "nas[pos]"
   ]
  },
  {
   "cell_type": "code",
   "execution_count": 18,
   "metadata": {},
   "outputs": [],
   "source": [
    "ski_data_df['AdultWeekday'].fillna((ski_data_df['AdultWeekday'].mean()), inplace=True)"
   ]
  },
  {
   "cell_type": "markdown",
   "metadata": {},
   "source": [
    "<b>Look for duplicate rows </b>\n"
   ]
  },
  {
   "cell_type": "code",
   "execution_count": 19,
   "metadata": {},
   "outputs": [
    {
     "data": {
      "text/html": [
       "<div>\n",
       "<style scoped>\n",
       "    .dataframe tbody tr th:only-of-type {\n",
       "        vertical-align: middle;\n",
       "    }\n",
       "\n",
       "    .dataframe tbody tr th {\n",
       "        vertical-align: top;\n",
       "    }\n",
       "\n",
       "    .dataframe thead th {\n",
       "        text-align: right;\n",
       "    }\n",
       "</style>\n",
       "<table border=\"1\" class=\"dataframe\">\n",
       "  <thead>\n",
       "    <tr style=\"text-align: right;\">\n",
       "      <th></th>\n",
       "      <th>Name</th>\n",
       "      <th>Region</th>\n",
       "      <th>state</th>\n",
       "      <th>summit_elev</th>\n",
       "      <th>vertical_drop</th>\n",
       "      <th>base_elev</th>\n",
       "      <th>trams</th>\n",
       "      <th>fastEight</th>\n",
       "      <th>fastSixes</th>\n",
       "      <th>fastQuads</th>\n",
       "      <th>...</th>\n",
       "      <th>LongestRun_mi</th>\n",
       "      <th>SkiableTerrain_ac</th>\n",
       "      <th>Snow Making_ac</th>\n",
       "      <th>daysOpenLastYear</th>\n",
       "      <th>yearsOpen</th>\n",
       "      <th>averageSnowfall</th>\n",
       "      <th>AdultWeekday</th>\n",
       "      <th>AdultWeekend</th>\n",
       "      <th>projectedDaysOpen</th>\n",
       "      <th>NightSkiing_ac</th>\n",
       "    </tr>\n",
       "  </thead>\n",
       "  <tbody>\n",
       "  </tbody>\n",
       "</table>\n",
       "<p>0 rows × 27 columns</p>\n",
       "</div>"
      ],
      "text/plain": [
       "Empty DataFrame\n",
       "Columns: [Name, Region, state, summit_elev, vertical_drop, base_elev, trams, fastEight, fastSixes, fastQuads, quad, triple, double, surface, total_chairs, Runs, TerrainParks, LongestRun_mi, SkiableTerrain_ac, Snow Making_ac, daysOpenLastYear, yearsOpen, averageSnowfall, AdultWeekday, AdultWeekend, projectedDaysOpen, NightSkiing_ac]\n",
       "Index: []\n",
       "\n",
       "[0 rows x 27 columns]"
      ]
     },
     "execution_count": 19,
     "metadata": {},
     "output_type": "execute_result"
    }
   ],
   "source": [
    "duplicateRowsDF = ski_data_df[ski_data_df.duplicated()]\n",
    "duplicateRowsDF"
   ]
  },
  {
   "cell_type": "code",
   "execution_count": 23,
   "metadata": {},
   "outputs": [],
   "source": [
    "ski_data_df.to_csv('step2_output.csv',encoding='utf-8', index=True)"
   ]
  },
  {
   "cell_type": "code",
   "execution_count": 24,
   "metadata": {},
   "outputs": [
    {
     "data": {
      "text/plain": [
       "'C:\\\\Users\\\\SANJAY\\\\Springboard\\\\Guided-capstone-Unit-6'"
      ]
     },
     "execution_count": 24,
     "metadata": {},
     "output_type": "execute_result"
    }
   ],
   "source": [
    "pwd\n"
   ]
  },
  {
   "cell_type": "code",
   "execution_count": 25,
   "metadata": {},
   "outputs": [
    {
     "name": "stdout",
     "output_type": "stream",
     "text": [
      " Volume in drive C is Windows\n",
      " Volume Serial Number is B403-50FE\n",
      "\n",
      " Directory of C:\\Users\\SANJAY\\Springboard\\Guided-capstone-Unit-6\n",
      "\n",
      "07-06-2020  03:56 PM    <DIR>          .\n",
      "07-06-2020  03:56 PM    <DIR>          ..\n",
      "03-06-2020  08:28 PM    <DIR>          .ipynb_checkpoints\n",
      "03-06-2020  09:05 PM    <DIR>          data\n",
      "03-06-2020  09:06 PM    <DIR>          figures\n",
      "07-06-2020  03:54 PM            40,030 Guided-Capstone-Data-Wrangling.ipynb\n",
      "03-06-2020  09:06 PM    <DIR>          models\n",
      "03-06-2020  09:17 PM            90,054 ski_data_dict.png\n",
      "07-06-2020  03:56 PM            44,416 step2_output.csv\n",
      "03-06-2020  08:19 PM            35,431 updated_ski_data.csv\n",
      "               4 File(s)        209,931 bytes\n",
      "               6 Dir(s)  94,948,171,776 bytes free\n"
     ]
    }
   ],
   "source": [
    "ls\n"
   ]
  },
  {
   "cell_type": "code",
   "execution_count": null,
   "metadata": {},
   "outputs": [],
   "source": []
  }
 ],
 "metadata": {
  "kernelspec": {
   "display_name": "Python 3",
   "language": "python",
   "name": "python3"
  },
  "language_info": {
   "codemirror_mode": {
    "name": "ipython",
    "version": 3
   },
   "file_extension": ".py",
   "mimetype": "text/x-python",
   "name": "python",
   "nbconvert_exporter": "python",
   "pygments_lexer": "ipython3",
   "version": "3.7.7"
  }
 },
 "nbformat": 4,
 "nbformat_minor": 4
}
